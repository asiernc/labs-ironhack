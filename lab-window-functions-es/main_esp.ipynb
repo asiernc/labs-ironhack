{
 "cells": [
  {
   "cell_type": "markdown",
   "id": "b4ba9fdc",
   "metadata": {},
   "source": [
    "### 1. Calcular la duración media del alquiler (en días) para cada película:"
   ]
  },
  {
   "cell_type": "code",
   "execution_count": null,
   "id": "419c891d",
   "metadata": {
    "vscode": {
     "languageId": "sql"
    }
   },
   "outputs": [],
   "source": [
    "SELECT\n",
    "    title,\n",
    "    rental_duration,\n",
    "    AVG(rental_duration) OVER () AS avg_rental_duration\n",
    "FROM\n",
    "    film;"
   ]
  },
  {
   "cell_type": "markdown",
   "id": "c7f7ea37",
   "metadata": {},
   "source": [
    "### 2. Calcular el importe medio de los pagos para cada miembro del personal:"
   ]
  },
  {
   "cell_type": "code",
   "execution_count": null,
   "id": "1b303188",
   "metadata": {
    "vscode": {
     "languageId": "sql"
    }
   },
   "outputs": [],
   "source": [
    "SELECT\n",
    "    staff_id,\n",
    "    AVG(amount) OVER (PARTITION BY staff_id) AS avg_payment_amount\n",
    "FROM\n",
    "    payment;"
   ]
  },
  {
   "cell_type": "markdown",
   "id": "d307de0e",
   "metadata": {},
   "source": [
    "### 3. Calcular los ingresos totales para cada cliente, mostrando el total acumulado dentro del historial de alquileres de cada cliente:"
   ]
  },
  {
   "cell_type": "code",
   "execution_count": null,
   "id": "d1a10cb3",
   "metadata": {
    "vscode": {
     "languageId": "sql"
    }
   },
   "outputs": [],
   "source": [
    "SELECT\n",
    "    payment.customer_id,\n",
    "    rental_id,\n",
    "    rental_date,\n",
    "    amount,\n",
    "    SUM(amount) OVER (PARTITION BY customer_id ORDER BY rental_date) AS running_total\n",
    "FROM\n",
    "    payment\n",
    "    JOIN rental USING (rental_id)\n",
    "ORDER BY\n",
    "    customer_id, rental_date;"
   ]
  },
  {
   "cell_type": "markdown",
   "id": "e4eb28f2",
   "metadata": {},
   "source": [
    "### 4. Determinar el cuartil para las tarifas de alquiler de las películas"
   ]
  },
  {
   "cell_type": "code",
   "execution_count": null,
   "id": "bdbd0457",
   "metadata": {
    "vscode": {
     "languageId": "sql"
    }
   },
   "outputs": [],
   "source": [
    "SELECT\n",
    "    title,\n",
    "    rental_rate,\n",
    "    NTILE(4) OVER (ORDER BY rental_rate) AS quartile\n",
    "FROM\n",
    "    film;"
   ]
  },
  {
   "cell_type": "markdown",
   "id": "dba9ef04",
   "metadata": {},
   "source": [
    "### 5. Determinar la primera y última fecha de alquiler para cada cliente:"
   ]
  },
  {
   "cell_type": "code",
   "execution_count": null,
   "id": "18b2819f",
   "metadata": {
    "vscode": {
     "languageId": "sql"
    }
   },
   "outputs": [],
   "source": [
    "SELECT\n",
    "    customer_id,\n",
    "    MIN(rental_date) OVER (PARTITION BY customer_id) AS first_rental_date,\n",
    "    MAX(rental_date) OVER (PARTITION BY customer_id) AS last_rental_date\n",
    "FROM\n",
    "    rental;\n",
    "GROUP BY customer_id;"
   ]
  },
  {
   "cell_type": "markdown",
   "id": "fdda139f",
   "metadata": {},
   "source": [
    "### 6. Calcular el rango de los clientes basado en el número de sus alquileres:"
   ]
  },
  {
   "cell_type": "code",
   "execution_count": null,
   "id": "7e7d64df",
   "metadata": {
    "vscode": {
     "languageId": "sql"
    }
   },
   "outputs": [],
   "source": [
    "SELECT\n",
    "    customer_id,\n",
    "    rental_count,\n",
    "    RANK() OVER (ORDER BY rental_count DESC) AS rental_count_rank\n",
    "FROM (\n",
    "    SELECT\n",
    "        customer_id,\n",
    "        COUNT(rental_id) AS rental_count\n",
    "    FROM\n",
    "        rental\n",
    "    GROUP BY\n",
    "        customer_id\n",
    ") AS rental_counts;"
   ]
  },
  {
   "cell_type": "markdown",
   "id": "ba05c1d1",
   "metadata": {},
   "source": [
    "### 7. Calcular el total acumulado de ingresos por día para la categoría de películas 'Familiar':"
   ]
  },
  {
   "cell_type": "markdown",
   "id": "039b57eb",
   "metadata": {},
   "source": [
    "### 8. Asignar un ID único a cada pago dentro del historial de pagos de cada cliente:"
   ]
  },
  {
   "cell_type": "code",
   "execution_count": null,
   "id": "02b64dc6",
   "metadata": {
    "vscode": {
     "languageId": "sql"
    }
   },
   "outputs": [],
   "source": [
    "SELECT\n",
    "    customer_id,\n",
    "    payment_id,\n",
    "    ROW_NUMBER() OVER (PARTITION BY customer_id ORDER BY payment_date) AS payment_sequence_id\n",
    "FROM\n",
    "    payment;"
   ]
  },
  {
   "cell_type": "markdown",
   "id": "2585681e",
   "metadata": {},
   "source": [
    "### 9. Calcular la diferencia en días entre cada alquiler y el alquiler anterior para cada cliente:"
   ]
  },
  {
   "cell_type": "code",
   "execution_count": null,
   "id": "3b8f42a0",
   "metadata": {
    "vscode": {
     "languageId": "sql"
    }
   },
   "outputs": [],
   "source": [
    "SELECT\n",
    "    customer_id,\n",
    "    rental_id,\n",
    "    rental_date,\n",
    "    LAG(rental_date) OVER (PARTITION BY customer_id ORDER BY rental_date) AS previous_rental_date,\n",
    "    DATEDIFF(rental_date, LAG(rental_date) OVER (PARTITION BY customer_id ORDER BY rental_date)) AS days_between_rentals\n",
    "FROM\n",
    "    rental\n",
    "ORDER BY\n",
    "    customer_id, rental_date;"
   ]
  }
 ],
 "metadata": {
  "kernelspec": {
   "display_name": "Python 3 (ipykernel)",
   "language": "python",
   "name": "python3"
  },
  "language_info": {
   "codemirror_mode": {
    "name": "ipython",
    "version": 3
   },
   "file_extension": ".py",
   "mimetype": "text/x-python",
   "name": "python",
   "nbconvert_exporter": "python",
   "pygments_lexer": "ipython3",
   "version": "3.9.13"
  },
  "nbTranslate": {
   "displayLangs": [
    "en",
    "es"
   ],
   "hotkey": "alt-a",
   "langInMainMenu": true,
   "sourceLang": "es",
   "targetLang": "en",
   "useGoogleTranslate": true
  }
 },
 "nbformat": 4,
 "nbformat_minor": 5
}
