{
 "cells": [
  {
   "cell_type": "markdown",
   "metadata": {},
   "source": [
    "# Functions"
   ]
  },
  {
   "cell_type": "markdown",
   "metadata": {},
   "source": [
    "En este laboratorio pondremos en práctica algunos de los conceptos que hemos aprendido en los últimos días.\n",
    "\n",
    "`NOTA: En este laboratorio deberías intentar escribir todas las funciones por ti mismo utilizando solo la sintaxis más básica de Python y sin funciones como len, count, sum, max, min, in, etc. Dale una oportunidad. 🧑🏻‍💻👩🏻‍💻`\n",
    "\n",
    "La celda después de cada ejercicio contiene algunas pruebas para verificar si tu función funciona como se espera."
   ]
  },
  {
   "cell_type": "code",
   "execution_count": null,
   "metadata": {},
   "outputs": [],
   "source": [
    "from mod.testing import *\n",
    "import unittest"
   ]
  },
  {
   "cell_type": "markdown",
   "metadata": {},
   "source": [
    "## 1. Escribe una función que devuelva el mayor de dos números"
   ]
  },
  {
   "cell_type": "code",
   "execution_count": null,
   "metadata": {},
   "outputs": [],
   "source": [
    "def greater(a,b):\n",
    "\t# devolvemos a si es mayor a b, sino se devuelve b\n",
    "\treturn a if a > b else b\n"
   ]
  },
  {
   "cell_type": "code",
   "execution_count": null,
   "metadata": {},
   "outputs": [
    {
     "name": "stderr",
     "output_type": "stream",
     "text": [
      "....................................................................................................\n",
      "----------------------------------------------------------------------\n",
      "Ran 100 tests in 0.013s\n",
      "\n",
      "OK\n"
     ]
    }
   ],
   "source": [
    "# Para testear tu función\n",
    "test_greater(greater)"
   ]
  },
  {
   "cell_type": "markdown",
   "metadata": {},
   "source": [
    "## 2. Ahora escribe una función que devuelva el elemento más"
   ]
  },
  {
   "cell_type": "code",
   "execution_count": null,
   "metadata": {},
   "outputs": [],
   "source": [
    "#tu codigo aquí\n",
    "def greatest(lst):\n",
    "    num = 0\n",
    "    # Hacemos un bucle en lst\n",
    "    for i in lst:\n",
    "        # Nos vamos guardando siempre el mayor, entre el valor guardado anteriormente (num) y el valor de la iteracion\n",
    "        if i > num:\n",
    "            num = i\n",
    "    return num"
   ]
  },
  {
   "cell_type": "code",
   "execution_count": null,
   "metadata": {},
   "outputs": [
    {
     "name": "stderr",
     "output_type": "stream",
     "text": [
      "....................................................................................................\n",
      "----------------------------------------------------------------------\n",
      "Ran 100 tests in 0.014s\n",
      "\n",
      "OK\n"
     ]
    }
   ],
   "source": [
    "# Para testear tu función\n",
    "test_greatest(greatest)"
   ]
  },
  {
   "cell_type": "markdown",
   "metadata": {},
   "source": [
    "## 3. Escribe una función que sume todos los elementos de una lista"
   ]
  },
  {
   "cell_type": "code",
   "execution_count": null,
   "metadata": {},
   "outputs": [],
   "source": [
    "def sum_all(lst):\n",
    "    sum = 0\n",
    "    # Hacemos un bucle en lst\n",
    "    for i in lst:\n",
    "        # Aplicamos suma de i al valor de sum que teniamos ya definido.\n",
    "        sum += i\n",
    "    return sum\n",
    "#tu codigo aquí"
   ]
  },
  {
   "cell_type": "code",
   "execution_count": null,
   "metadata": {
    "scrolled": true
   },
   "outputs": [
    {
     "name": "stderr",
     "output_type": "stream",
     "text": [
      "....................................................................................................\n",
      "----------------------------------------------------------------------\n",
      "Ran 100 tests in 0.014s\n",
      "\n",
      "OK\n"
     ]
    }
   ],
   "source": [
    "# Para testear tu función\n",
    "test_sum(sum_all)"
   ]
  },
  {
   "cell_type": "markdown",
   "metadata": {},
   "source": [
    "## 4. Escribe otra función que multiplique todos los elementos de una lista"
   ]
  },
  {
   "cell_type": "code",
   "execution_count": null,
   "metadata": {},
   "outputs": [],
   "source": [
    "def mult_all(lst):\n",
    "    # Inicializamos en 1 por multiplicacion, 0x2 = 0 FAIL \n",
    "    mult = 1\n",
    "    # hacemos un bucle en cada elemento de lst\n",
    "    for i in lst:\n",
    "        # por cada valor en lst multiplicamos el actual por el acumulado\n",
    "        mult *= i\n",
    "    return mult"
   ]
  },
  {
   "cell_type": "code",
   "execution_count": null,
   "metadata": {
    "scrolled": true
   },
   "outputs": [
    {
     "name": "stderr",
     "output_type": "stream",
     "text": [
      "....................................................................................................\n",
      "----------------------------------------------------------------------\n",
      "Ran 100 tests in 0.017s\n",
      "\n",
      "OK\n"
     ]
    }
   ],
   "source": [
    "# Para testear tu función\n",
    "test_mult(mult_all)"
   ]
  },
  {
   "cell_type": "markdown",
   "metadata": {},
   "source": [
    "## 5. Ahora combina esas dos ideas y escribe una función que reciba una lista y ya sea \"+\" o \"*\", y produzca el resultado acorde"
   ]
  },
  {
   "cell_type": "code",
   "execution_count": null,
   "metadata": {},
   "outputs": [],
   "source": [
    "def oper_all(arr, oper = \"*\"):\n",
    "    # Detectamos simbolo primero\n",
    "    if oper == \"*\":\n",
    "        # si es '*' mandamos arr a la funcion de mult\n",
    "        num = mult_all(arr)\n",
    "    elif oper == \"+\":\n",
    "        # si es '+' mandamos arr a la funcion de suma\n",
    "        num = sum_all(arr)\n",
    "    else:\n",
    "        # si no es '+' ni '*' devolvemos null, none\n",
    "        num = None\n",
    "    return num\n",
    "#tu codigo aquí"
   ]
  },
  {
   "cell_type": "code",
   "execution_count": null,
   "metadata": {},
   "outputs": [
    {
     "name": "stderr",
     "output_type": "stream",
     "text": [
      "....................................................................................................\n",
      "----------------------------------------------------------------------\n",
      "Ran 100 tests in 0.028s\n",
      "\n",
      "OK\n"
     ]
    }
   ],
   "source": [
    "# Para testear tu función\n",
    "test_operations(oper_all)"
   ]
  },
  {
   "cell_type": "markdown",
   "metadata": {},
   "source": [
    "## 6. Escribe una función que devuelva el factorial de un número."
   ]
  },
  {
   "cell_type": "code",
   "execution_count": null,
   "metadata": {},
   "outputs": [
    {
     "name": "stdout",
     "output_type": "stream",
     "text": [
      "120\n"
     ]
    }
   ],
   "source": [
    "def factorial(n):\n",
    "    # VERSION 1.0\n",
    "\t\t# if n == 0:\n",
    "\t\t#     return 1\n",
    "\t\t# num = 1\n",
    "\t\t# Aqui generamos una lista con todos los valores n - 1 hasta n == 1\n",
    "\t\t# x = [x for x in range(n, 0, -1)]\n",
    "\t\t# multiplicamos en linea \n",
    "\t\t# for i in x:\n",
    "\t\t#     num *= i\n",
    "    # return num\n",
    "    \n",
    "    # VERSION 2.0\n",
    "\t\t# num2 = 1\n",
    "\t\t# while n != 0:\n",
    "\t\t#     num2 *= n\n",
    "\t\t#     n -= 1\n",
    "\t\t# return num2\n",
    "    \n",
    "    # VERSION 3.0\n",
    "    # 1 es el caso base por si nos piden factorial de 1 o 0.\n",
    "    # en caso contrario recursivamente iria hasta el valor de n mas pequeño ( que no puediera hacer - 1), y una vez ahi\n",
    "    # aplicaria la multiplicacion hacia arriba, es decir hasta el valor de n real.\n",
    "    # 5 * (4 * (3 * (2 * 1))) ==> 2 * 1 = 2; 3 * 2 = 6; 4 * 6 = 24; 5 * 24 = 120\n",
    "    return 1 if n <= 1 else n * factorial(n - 1)\n",
    "\n"
   ]
  },
  {
   "cell_type": "code",
   "execution_count": null,
   "metadata": {},
   "outputs": [],
   "source": [
    "# Fórmula factorial\n",
    "# n! = n * (n - 1) *...*1\n",
    "\n",
    "# Este código define una función llamada \"factorial\" que toma una entrada \"n\". La función utiliza un bucle for para iterar a través del rango de números\n",
    "# desde 1 hasta n+1. Para cada número en ese rango, multiplica el valor actual de x por el número en el rango. Al final del bucle,\n",
    "# la función devuelve el valor final de x, que será el factorial del número de entrada \"n\".\n",
    "\n",
    "# El factorial de un entero positivo n es el producto de todos los enteros positivos menores o iguales a n.\n",
    "# Por ejemplo, el factorial de 6 (escrito \"6!\") es 6 * 5 * 4 * 3 * 2 * 1 = 720.\n",
    "\n",
    "# Así que esta función toma una entrada de cualquier entero positivo y devuelve el factorial de ese número."
   ]
  },
  {
   "cell_type": "code",
   "execution_count": null,
   "metadata": {},
   "outputs": [
    {
     "name": "stderr",
     "output_type": "stream",
     "text": [
      "....................................................................................................\n",
      "----------------------------------------------------------------------\n",
      "Ran 100 tests in 0.025s\n",
      "\n",
      "OK\n"
     ]
    }
   ],
   "source": [
    "# This will test your function \n",
    "test_factorial(factorial)"
   ]
  },
  {
   "cell_type": "markdown",
   "metadata": {},
   "source": [
    "## 7. Escribe una función que tome una lista y devuelva una lista de los valores únicos.\n",
    "\n",
    "`NOTE: No podemos usar set. 🤔`"
   ]
  },
  {
   "cell_type": "code",
   "execution_count": null,
   "metadata": {},
   "outputs": [],
   "source": [
    "def unique(lst_un):\n",
    "    # creamos una lista vacía donde guardaremos los valores únicos encontrados\n",
    "    unic_list = []\n",
    "    # bucle en cada elemento de la lst original\n",
    "    for i in lst_un:\n",
    "        # indicador para saber si esta o no en unic_list\n",
    "        flag = False\n",
    "        # comprobamos si el elemento esta en unic_list\n",
    "        for j in unic_list:\n",
    "            if i == j:\n",
    "                # si aparece, indicador en true y salimos del bucle\n",
    "                flag = True\n",
    "                break\n",
    "        # si el elemento no estaba en unic_list, lo añadimos\n",
    "        if not flag:\n",
    "            unic_list.append(i)\n",
    "    # devolvemos lista de valores unicos\n",
    "    return unic_list"
   ]
  },
  {
   "cell_type": "code",
   "execution_count": null,
   "metadata": {},
   "outputs": [
    {
     "name": "stderr",
     "output_type": "stream",
     "text": [
      "....................................................................................................\n",
      "----------------------------------------------------------------------\n",
      "Ran 100 tests in 0.091s\n",
      "\n",
      "OK\n"
     ]
    }
   ],
   "source": [
    "# Para testear tu función \n",
    "test_unique(unique)"
   ]
  },
  {
   "cell_type": "markdown",
   "metadata": {},
   "source": [
    "## 8. Escribe una función que devuelva la moda de una lista, es decir: el elemento que aparece más veces.\n",
    "\n",
    "`NOTE: No se debe usar count... 🧐`"
   ]
  },
  {
   "cell_type": "code",
   "execution_count": null,
   "metadata": {},
   "outputs": [],
   "source": [
    "def mode_counter(arr):\n",
    "    # inicializamos str para almacenar la moda\n",
    "    value = \"\"\n",
    "    # variable para guardar las repeticiones del actual value\n",
    "    max_count = 0\n",
    "    # Recorremos cada valor de arr\n",
    "    for i in arr:\n",
    "        act_count = 0 # contador de repeticiones para el valor actual (i)\n",
    "        # comparamos i con todos los valores del mismo array\n",
    "        for j in arr:\n",
    "            if i == j:\n",
    "                act_count += 1 # son iguales? sumamos 1\n",
    "        # si el contador actual es mas grande que el anteriormente guardado, actualizamos moda y maximo\n",
    "        if act_count > max_count:\n",
    "            max_count = act_count\n",
    "            value = i\n",
    "    # Mostramos info recopilada\n",
    "    print(f\"{value}:{max_count}\")\n",
    "    # devolvemos value que contiene el valor del elemento\n",
    "    return value"
   ]
  },
  {
   "cell_type": "code",
   "execution_count": null,
   "metadata": {},
   "outputs": [
    {
     "name": "stderr",
     "output_type": "stream",
     "text": [
      "....................................................................................................\n",
      "----------------------------------------------------------------------\n",
      "Ran 100 tests in 0.066s\n",
      "\n",
      "OK\n"
     ]
    },
    {
     "name": "stdout",
     "output_type": "stream",
     "text": [
      "5:54\n",
      "7:52\n",
      "21:52\n",
      "20:53\n",
      "13:54\n",
      "22:55\n",
      "20:54\n",
      "18:52\n",
      "14:53\n",
      "22:51\n",
      "8:56\n",
      "24:55\n",
      "17:54\n",
      "15:56\n",
      "7:56\n",
      "21:53\n",
      "22:54\n",
      "1:54\n",
      "18:52\n",
      "18:51\n",
      "5:54\n",
      "13:55\n",
      "21:58\n",
      "9:57\n",
      "23:53\n",
      "19:56\n",
      "9:52\n",
      "21:56\n",
      "9:58\n",
      "16:55\n",
      "2:53\n",
      "13:57\n",
      "4:55\n",
      "10:51\n",
      "14:56\n",
      "7:57\n",
      "6:55\n",
      "4:58\n",
      "18:52\n",
      "1:54\n",
      "3:53\n",
      "6:55\n",
      "10:52\n",
      "4:54\n",
      "14:55\n",
      "11:53\n",
      "8:53\n",
      "11:54\n",
      "19:53\n",
      "10:55\n",
      "21:55\n",
      "5:51\n",
      "20:53\n",
      "14:60\n",
      "7:54\n",
      "12:55\n",
      "6:57\n",
      "23:55\n",
      "22:55\n",
      "5:57\n",
      "21:55\n",
      "7:55\n",
      "11:53\n",
      "12:52\n",
      "13:56\n",
      "4:56\n",
      "11:55\n",
      "9:53\n",
      "17:62\n",
      "14:58\n",
      "21:52\n",
      "23:55\n",
      "11:56\n",
      "17:54\n",
      "15:53\n",
      "11:51\n",
      "24:56\n",
      "5:55\n",
      "4:55\n",
      "16:54\n",
      "11:54\n",
      "25:55\n",
      "6:52\n",
      "21:57\n",
      "20:55\n",
      "15:57\n",
      "22:52\n",
      "19:53\n",
      "1:54\n",
      "10:55\n",
      "6:52\n",
      "14:56\n",
      "11:60\n",
      "8:54\n",
      "20:56\n",
      "9:53\n",
      "13:56\n",
      "16:54\n",
      "14:53\n",
      "18:54\n"
     ]
    }
   ],
   "source": [
    "# Para testear tu función \n",
    "test_mode(mode_counter)"
   ]
  },
  {
   "cell_type": "markdown",
   "metadata": {},
   "source": [
    "## 9. Escribe una función que calcule la desviación estándar de una lista.\n",
    "`NOTE: no utilices librerías ni ninguna función ya construida. 😉`"
   ]
  },
  {
   "cell_type": "code",
   "execution_count": null,
   "metadata": {},
   "outputs": [],
   "source": [
    "\n",
    "def st_dev(list_sd):\n",
    "    n = 0\n",
    "    # calculamos el len de list_sd\n",
    "    for i in list_sd:\n",
    "        n += 1\n",
    "    # si está vacía devolvemos 0\n",
    "    if n == 0:\n",
    "        return 0\n",
    "    # calculamos la suma total de los elementos\n",
    "    sum = 0\n",
    "    for i in list_sd:\n",
    "        sum += i\n",
    "    # obtenemos la mediana\n",
    "    mean = sum / n\n",
    "    # generamos una nueva lista con los cuadrados de las diferencias respecto a la media\n",
    "    sum = [ (x - mean) ** 2 for x in list_sd ]\n",
    "    # Sumamos todos esos cuadrados\n",
    "    sum_squares = 0\n",
    "    for i in sum:\n",
    "        sum_squares += i\n",
    "    # Calculamos la variance diviendo entre len - 1\n",
    "    variance = sum_squares / ( n - 1)\n",
    "    \n",
    "    # devolvemos la raíz cuadrada de la variance que es la desviación estándar\n",
    "    return variance ** 0.5\n",
    "    \n",
    "#tu codigo aquí"
   ]
  },
  {
   "cell_type": "code",
   "execution_count": null,
   "metadata": {},
   "outputs": [
    {
     "name": "stderr",
     "output_type": "stream",
     "text": [
      "....................................................................................................\n",
      "----------------------------------------------------------------------\n",
      "Ran 100 tests in 0.038s\n",
      "\n",
      "OK\n"
     ]
    }
   ],
   "source": [
    "# Para testear tu función\n",
    "test_stdev(st_dev)"
   ]
  },
  {
   "cell_type": "markdown",
   "metadata": {},
   "source": [
    "## 10. Escribe una función para verificar si una cadena es un pangrama, es decir: si contiene todas las letras del alfabeto al menos una vez. Ten en cuenta que las cadenas pueden contener caracteres que no son letras."
   ]
  },
  {
   "cell_type": "code",
   "execution_count": null,
   "metadata": {},
   "outputs": [],
   "source": [
    "def pangram(string):\n",
    "    # Creamos una lista con el abecedario\n",
    "    abc = \"abcdefghijklmnopqrstuvwxyz\"\n",
    "    # recorreremos primero el abecedario para ir letra por letra\n",
    "    for letter in abc:\n",
    "        found = False # indicador en false para chequear despues\n",
    "        # por cada letra de abc recorreremos y compararemos cada letra de str\n",
    "        for c in string:\n",
    "            # convertirmos a lower y comparamos\n",
    "            if c.lower() == letter:\n",
    "                # si coincide, seteamos found en True y salimos del bucle en STRING\n",
    "                found = True\n",
    "                break\n",
    "        # si found = False salimos del bucle general y devolvemos false, si no continuamos\n",
    "        if not found:\n",
    "            return False\n",
    "    # si se ha llegado a recorrer todo abc, significa que todas las letras del abecedario están en string\n",
    "    return True\n"
   ]
  },
  {
   "cell_type": "code",
   "execution_count": null,
   "metadata": {},
   "outputs": [
    {
     "name": "stderr",
     "output_type": "stream",
     "text": [
      "..............................\n",
      "----------------------------------------------------------------------\n",
      "Ran 30 tests in 0.007s\n",
      "\n",
      "OK\n"
     ]
    }
   ],
   "source": [
    "# Para testear tu función\n",
    "test_pangram(pangram)"
   ]
  },
  {
   "cell_type": "markdown",
   "metadata": {},
   "source": [
    "## 11. Escribe una función que reciba una cadena de palabras separadas por comas y devuelva una cadena de palabras separadas por comas ordenadas alfabéticamente.\n",
    "\n",
    "`NOTA: Puedes usar sorted pero no split y definitivamente no join! 🤪`"
   ]
  },
  {
   "cell_type": "code",
   "execution_count": null,
   "metadata": {},
   "outputs": [],
   "source": [
    "def ft_split(string, sep):\n",
    "    # inicializamos una cadena vacía para ir formando cada palabra\n",
    "    strr = \"\"\n",
    "    # lista donde guardamos las palabras separadas\n",
    "    lst = []\n",
    "    # bucle en cadena original\n",
    "    for c in string:\n",
    "        # si encontramos el separador, guardamos la palabra en lst y reiniciamos\n",
    "        if c == sep:\n",
    "            lst.append(strr)\n",
    "            strr = \"\"\n",
    "            continue\n",
    "        # si no es el separador, añadimos el char a strr\n",
    "        strr += c\n",
    "    # añadimos la ultima palabra despues de salir del bucle\n",
    "    lst.append(strr)\n",
    "    # devolvemos la lista de palabras separadas\n",
    "    return lst\n",
    "\n",
    "def ft_join(lst, sep):\n",
    "    # inicializamos cadena para el resultado final\n",
    "    strr = \"\"\n",
    "    # bucle en lst y lo añadimos junto al separador cada elemento\n",
    "    for s in lst:\n",
    "        strr += s + sep\n",
    "    # quitamos el ultimo separador sobrante y devolvemos\n",
    "    return strr[:-1]\n",
    "\n",
    "def sort_alpha(string):\n",
    "    # separamos la cadena en una lista usando nuestra función split\n",
    "    lst = ft_split(string, ',')\n",
    "    # ordenamos la lista alfabeticamente\n",
    "    lst = sorted(lst)\n",
    "    # unimos la lista ordenada en una cadena, con un separador\n",
    "    strr = ft_join(lst, sep=',')\n",
    "    # devolvemos cadena resultante\n",
    "    return strr"
   ]
  },
  {
   "cell_type": "code",
   "execution_count": null,
   "metadata": {},
   "outputs": [
    {
     "name": "stderr",
     "output_type": "stream",
     "text": [
      "....................................................................................................\n",
      "----------------------------------------------------------------------\n",
      "Ran 100 tests in 0.018s\n",
      "\n",
      "OK\n"
     ]
    }
   ],
   "source": [
    "# Para testear tu función \n",
    "test_alpha(sort_alpha)"
   ]
  },
  {
   "cell_type": "markdown",
   "metadata": {},
   "source": [
    "## 12. Escribe una función para verificar si una contraseña dada es fuerte (al menos 8 caracteres, al menos una minúscula, al menos una mayúscula, al menos un número y al menos un carácter especial). Debería devolver True si es fuerte y False si no lo es."
   ]
  },
  {
   "cell_type": "markdown",
   "metadata": {},
   "source": []
  },
  {
   "cell_type": "code",
   "execution_count": null,
   "metadata": {},
   "outputs": [],
   "source": [
    "def ft_strlen(str):\n",
    "    len = 0\n",
    "    for _ in str:\n",
    "        len += 1\n",
    "    return len\n",
    "\n",
    "# funcion que pasado un caracter y un string, busca si ese caracter esta en ese string y devuelve T o F\n",
    "def check(c, str):\n",
    "\tfor ch in str:\n",
    "\t\tif c == ch:\n",
    "\t\t\treturn True\n",
    "\treturn False\n",
    "\n",
    "def check_pass(password):\n",
    "    # obtenemos len\n",
    "    len = ft_strlen(password)\n",
    "    # declaramos vada variable para almacenar la salida del checkeo\n",
    "    has_upper = False\n",
    "    has_digits = False\n",
    "    has_lower = False\n",
    "    has_special = False\n",
    "    \n",
    "    # recorremos cada char de password\n",
    "    for c in password:\n",
    "        # le pasamos el actual caracter para determinar que es y guardarnos que contiene ese caracter.\n",
    "        # asi con ABC en UPPER\n",
    "        if check(c, \"ABCDEFGHIJKLMNOPQRSTUVWXYZ\"):\n",
    "            has_upper = True\n",
    "        # asi con ABC en MINUS\n",
    "        if check(c, \"abcdefghijklmnopqrstuvwxyz\"):\n",
    "            has_lower = True\n",
    "        # asi con digitos 0-9\n",
    "        if check(c, \"0123456789\"):\n",
    "            has_digits = True\n",
    "        # asi con caracteres especiales\n",
    "        if check(c, \"!@#$%^&*()-_=+[{]}\\\\|;:'\\\",<.>/?`~\"):\n",
    "            has_special = True\n",
    "            \n",
    "    # si es mayor a 8, y los tests previos los ha pasado todos, devolvemos true, si no false\n",
    "    if len >= 8 and has_upper and has_lower and has_special and has_digits:\n",
    "        return True\n",
    "    return False"
   ]
  },
  {
   "cell_type": "code",
   "execution_count": null,
   "metadata": {},
   "outputs": [
    {
     "name": "stderr",
     "output_type": "stream",
     "text": [
      "....................................................................................................\n",
      "----------------------------------------------------------------------\n",
      "Ran 100 tests in 0.032s\n",
      "\n",
      "OK\n"
     ]
    }
   ],
   "source": [
    "# Para testear tu función\n",
    "test_pass(check_pass)"
   ]
  }
 ],
 "metadata": {
  "kernelspec": {
   "display_name": "Python 3",
   "language": "python",
   "name": "python3"
  },
  "language_info": {
   "codemirror_mode": {
    "name": "ipython",
    "version": 3
   },
   "file_extension": ".py",
   "mimetype": "text/x-python",
   "name": "python",
   "nbconvert_exporter": "python",
   "pygments_lexer": "ipython3",
   "version": "3.13.3"
  }
 },
 "nbformat": 4,
 "nbformat_minor": 4
}
